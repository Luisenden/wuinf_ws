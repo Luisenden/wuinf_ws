{
 "cells": [
  {
   "cell_type": "markdown",
   "metadata": {},
   "source": [
    "# Use case: Bicycle sharing\n",
    "Let's go for a ride! Bike sharing systems are an increasingly popular system. They present a cost-effective, technology driven alternative to traveling with cars, easing traffic congestion and decreasing our carbon footprint!\n",
    "\n",
    "Important <b> stakeholders of the city Vienna are interested in a forecasting tool </b>, which gives the potential bike shares for specific weather conditions at a certain time of the year. As for example, you know it's a lovely day in July, the weather is a bit cloudy, but it's still warm and a holiday. What will be the number of city bikes on the streets at 11:00? \n",
    "\n",
    "## Outline\n",
    "\n",
    "Today you work with historical data. We assume this data represents the historical bike shares of the city vienna and were recorded in the years 2015, 2016 and 2017.\n",
    "The first task is to <b> prepare the data </b>. \n",
    "\n",
    "1. load necessary libraries\n",
    "2. load raw data\n",
    "3. inspect the attributes\n",
    "4. check missing values\n",
    "5. adjust the timedate format\n",
    "6. detect and remove outliers\n",
    "7. save processed data\n",
    "\n",
    "\n",
    "After this, you willl build the desired <b> forecasting tool using a machine learning model </b>!"
   ]
  },
  {
   "cell_type": "markdown",
   "metadata": {},
   "source": [
    "<img src=\"Figures/bike.png\" alt=\"Paris\" width=\"600\" style=\"float:left\"> "
   ]
  },
  {
   "cell_type": "markdown",
   "metadata": {},
   "source": [
    "<p style=\"font-size:1vw; color:#808080\">Data source: Powered by TfL Open Data, \n",
    "Contains OS data © Crown copyright and database rights 2016 and Geomni UK Map data ©<br> and database rights [2019]<br>\n",
    "https://www.kaggle.com/hmavrodiev/london-bike-sharing-dataset/metadata</p>"
   ]
  },
  {
   "cell_type": "markdown",
   "metadata": {},
   "source": [
    "## Quick note about Jupyter cells\n",
    "\n",
    "When you are editing a cell in Jupyter notebook, you need to re-run the cell by pressing `<Shift> + <Enter>`. This will allow changes you made to be available to other cells.\n",
    "\n",
    "Use `<Enter>` to make new lines inside a cell you are editing.\n",
    "\n",
    "### Code cells\n",
    "Re-running will execute any statements you have written. To edit an existing code cell, click on it.\n",
    "\n",
    "### Markdown cells\n",
    "Re-running will render the markdown text. To edit an existing markdown cell, double-click on it.\n",
    "\n",
    "\n",
    "### Common Jupyter operations\n",
    "\n",
    "**Inserting and removing cells**\n",
    "\n",
    "Use the \"plus sign\" icon to insert a cell below the currently selected cell\n",
    "Use \"Insert\" -> \"Insert Cell Above\" from the menu to insert above\n",
    "\n",
    "**Clear the output of all cells**\n",
    "\n",
    "Use \"Kernel\" -> \"Restart\" from the menu to restart the kernel\n",
    "click on \"clear all outputs & restart\" to have all the output cleared\n",
    "\n",
    "**Show function signature**\n",
    "\n",
    "Start typing function and hit `<Shift> + <Tab>`"
   ]
  },
  {
   "cell_type": "markdown",
   "metadata": {},
   "source": [
    "# Part 1 preprocessing\n",
    "\n",
    "## load necessary libraries\n",
    "\n",
    "Import the following packages: `pandas as pd`, `numpy as np`, `from scipy import stats`, `matplotlib.pyplot as plt` and `seaborn as sns`"
   ]
  },
  {
   "cell_type": "code",
   "execution_count": null,
   "metadata": {
    "id": "_ql5CtcT50P6"
   },
   "outputs": [],
   "source": [
    "..."
   ]
  },
  {
   "cell_type": "code",
   "execution_count": null,
   "metadata": {
    "id": "_ql5CtcT50P6"
   },
   "outputs": [],
   "source": [
    "sns.set_style('whitegrid')\n",
    "%matplotlib inline\n",
    "\n",
    "import warnings\n",
    "warnings.filterwarnings(\"ignore\")"
   ]
  },
  {
   "cell_type": "markdown",
   "metadata": {},
   "source": [
    "## load data\n",
    "As we have done the step of collecting some sample data for you already, you only have to load the data from the file `inputdata_raw.csv` into a pandas dataframe using the method `pd.read_csv(...)`. Typing a variable name into a jupyter cell and running it, shows you the current content."
   ]
  },
  {
   "cell_type": "code",
   "execution_count": null,
   "metadata": {
    "id": "HzZJmdTkrb_P",
    "scrolled": true
   },
   "outputs": [],
   "source": [
    "df = ...\n",
    "df"
   ]
  },
  {
   "cell_type": "markdown",
   "metadata": {
    "id": "1HbKCeWxrePT"
   },
   "source": [
    "## inspect data\n",
    "\n",
    "Use pandas function `df.head()` to observe the first 5 entry rows of the dataframe."
   ]
  },
  {
   "cell_type": "code",
   "execution_count": null,
   "metadata": {
    "id": "kjXKuZi7rmn_",
    "outputId": "055e88f7-bc24-4fff-fd2e-f83c7f63fe49",
    "scrolled": true
   },
   "outputs": [],
   "source": [
    "..."
   ]
  },
  {
   "cell_type": "markdown",
   "metadata": {},
   "source": [
    "You are presented with the following attribtues\n",
    "\n",
    "- `timestamp`:   timestamp of data point\n",
    "- `cnt`: <b> the count of bike shares, this is our target value! </b>\n",
    "- `t1`: real temperature in C\n",
    "- `t2`: temperature in C \"feels like\"\n",
    "- `hum`: humidity in %\n",
    "- `windspeed`: wind speed in km/h\n",
    "- `weathercode`: category field, where 1= clear ; 2 = scattered clouds / few clouds; 3 = broken clouds; 4 = cloudy; 7 = rain/ light rain shower; 10 = rain with thunderstorm; 26 = snowfall\n",
    "- `isholiday`: boolean field\n",
    "- `isweekend`: boolean field\n",
    "- `season`: category field, where 0-spring ; 1-summer; 2-fall; 3-winter."
   ]
  },
  {
   "cell_type": "markdown",
   "metadata": {
    "id": "xb8tgjA-zCqU"
   },
   "source": [
    "## missing values\n",
    "\n",
    "Use pandas functions `df.isnull().sum()` to check if there are any missing values. "
   ]
  },
  {
   "cell_type": "code",
   "execution_count": null,
   "metadata": {
    "id": "XJEzEvDVzAA0",
    "outputId": "ee84ead6-3529-4042-d739-4013f9f0afbb"
   },
   "outputs": [],
   "source": [
    "print(\"missing values:\\n\", ...)"
   ]
  },
  {
   "cell_type": "markdown",
   "metadata": {},
   "source": [
    "Fortunately, there are none, let's proceed. "
   ]
  },
  {
   "cell_type": "markdown",
   "metadata": {
    "id": "SOf_TTdKWtrT"
   },
   "source": [
    "## feature engineering\n",
    "\n",
    "Use the function `type()` to identify the data type of the current `df['timestamp'][0]` attribute."
   ]
  },
  {
   "cell_type": "code",
   "execution_count": null,
   "metadata": {},
   "outputs": [],
   "source": [
    "..."
   ]
  },
  {
   "cell_type": "markdown",
   "metadata": {},
   "source": [
    "Since it is a `str`, convert it into a datetime object using the pandas function \n",
    "\n",
    "`pd.to_datetime(df['...'] , format = '%Y%m%d %H:%M:%S')`"
   ]
  },
  {
   "cell_type": "code",
   "execution_count": null,
   "metadata": {
    "id": "-u1XktmOZHgS"
   },
   "outputs": [],
   "source": [
    "df['timestamp'] = ...\n",
    "df['timestamp']"
   ]
  },
  {
   "cell_type": "markdown",
   "metadata": {},
   "source": [
    "Add columns `month` and `hour` to your data frame with the calls `.dt.month` and `.dt.hour` applied to the column `timestamp`"
   ]
  },
  {
   "cell_type": "code",
   "execution_count": null,
   "metadata": {
    "id": "WRbcXEmUa682"
   },
   "outputs": [],
   "source": [
    "df['month'] = ...\n",
    "df['hour'] = ..."
   ]
  },
  {
   "cell_type": "markdown",
   "metadata": {},
   "source": [
    "Let's see which month is the most popular for bike sharing. Use the function `groupby([month-column]).sum()[count-column]` to get an array of the number of bike shares per month."
   ]
  },
  {
   "cell_type": "code",
   "execution_count": null,
   "metadata": {},
   "outputs": [],
   "source": [
    "sums = ...\n",
    "\n",
    "sums = sums/3\n",
    "plt.figure(figsize = (8,6))\n",
    "plt.plot(df['month'].unique(),sums)\n",
    "plt.xlabel('month')\n",
    "plt.ylabel('sum of cnt')"
   ]
  },
  {
   "cell_type": "markdown",
   "metadata": {
    "id": "7SHzsPBidaoA"
   },
   "source": [
    "Compare the visulization with the image below. As expected, the sum of all the bike shares goes with the temperatures over a typical year. \n",
    "\n",
    "<img src=\"Figures/vienna-average-weather.png\" alt=\"Paris\" width=\"600\" style=\"float:left\">"
   ]
  },
  {
   "cell_type": "markdown",
   "metadata": {
    "id": "__hL7Sv7thlz"
   },
   "source": [
    "## outliers\n",
    "\n",
    "We are most interested in the attributes `df.columns` wich have numerical values:\n",
    "\n",
    "`cnt`,`t1`,`t2`,`hum` and `windspeed`\n",
    "\n",
    "Use the pandas `describe()` function on these columns to see their `mean`, `std`,`min`,`max` and the `IQR values`"
   ]
  },
  {
   "cell_type": "code",
   "execution_count": null,
   "metadata": {
    "id": "tljgFp_3temj",
    "outputId": "dca5b311-81d7-4bac-f9a6-1b19be49c948",
    "scrolled": true
   },
   "outputs": [],
   "source": [
    "df[df.columns[1:6]]..."
   ]
  },
  {
   "cell_type": "markdown",
   "metadata": {},
   "source": [
    "Use the seaborn function `sns.boxplot(column,dataframe)` to get a better picture of the outliers in each numerical attribute."
   ]
  },
  {
   "cell_type": "code",
   "execution_count": null,
   "metadata": {
    "id": "dvPwC95ftnhk",
    "outputId": "4312f7f0-6acb-4036-f7fb-58671c3b8088"
   },
   "outputs": [],
   "source": [
    "for column in df.columns[1:6]:\n",
    "    plt.figure(figsize = (8,6))\n",
    "    ..."
   ]
  },
  {
   "cell_type": "markdown",
   "metadata": {},
   "source": [
    "Additional: \n",
    "\n",
    "Attributes `cnt` and `wind_speed` have many outliers. Your task is to <b>write a function</b>, which <b>removes these rows with the z-score</b>. So, essentially you put a filter on the data frame with `stats.zscore()`. Select all rows of a certain column where the values are within <b> 3 standard deviations from the mean</b>. \n",
    "\n",
    "1. the condition for a cell `x` to be selected is `np.abs(stats.zscore(df[x])) < 3`, try this with `x=cnt` for example.\n",
    "2. then select the rows with `df[...]` where the above condition is `true` and  `return` them\n",
    "\n",
    "\n",
    "More infos on z-score: https://en.wikipedia.org/wiki/Standard_score"
   ]
  },
  {
   "cell_type": "code",
   "execution_count": null,
   "metadata": {
    "id": "N_deKU6A46p3"
   },
   "outputs": [],
   "source": [
    "def remove_outliers(df,column):\n",
    "    return ...\n",
    "    \n",
    "xdf = remove_outliers(df,'cnt')\n",
    "xxdf = remove_outliers(xdf, 'wind_speed')"
   ]
  },
  {
   "cell_type": "code",
   "execution_count": null,
   "metadata": {},
   "outputs": [],
   "source": [
    "xxdf.shape"
   ]
  },
  {
   "cell_type": "markdown",
   "metadata": {},
   "source": [
    "Finally, save your dataframe as `inputdata.csv` using `.to_csv(filename, index = False)`."
   ]
  },
  {
   "cell_type": "code",
   "execution_count": null,
   "metadata": {},
   "outputs": [],
   "source": [
    "..."
   ]
  }
 ],
 "metadata": {
  "kernelspec": {
   "display_name": "Python 3",
   "language": "python",
   "name": "python3"
  },
  "language_info": {
   "codemirror_mode": {
    "name": "ipython",
    "version": 3
   },
   "file_extension": ".py",
   "mimetype": "text/x-python",
   "name": "python",
   "nbconvert_exporter": "python",
   "pygments_lexer": "ipython3",
   "version": "3.7.3"
  }
 },
 "nbformat": 4,
 "nbformat_minor": 4
}
