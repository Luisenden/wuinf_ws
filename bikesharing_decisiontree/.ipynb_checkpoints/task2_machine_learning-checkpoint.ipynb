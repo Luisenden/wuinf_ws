{
 "cells": [
  {
   "cell_type": "markdown",
   "metadata": {},
   "source": [
    "# Part 2 machine learning \n",
    "\n",
    "## Outline\n",
    "Now that you successfully prepared the data, you will train a machine learning model to <b> predict the number of bike shares </b> `cnt`.\n",
    "\n",
    "1. load prepared data\n",
    "2. specify target value and training attributes\n",
    "3. split data in in train and test sets\n",
    "4. train and predict\n",
    "5. performance testing"
   ]
  },
  {
   "cell_type": "markdown",
   "metadata": {},
   "source": [
    "<img src=\"Figures/bike.png\" alt=\"Paris\" width=\"600\" style=\"float:left\"> "
   ]
  },
  {
   "cell_type": "markdown",
   "metadata": {},
   "source": [
    "<p style=\"font-size:1vw; color:#808080\">Powered by TfL Open Data, \n",
    "Contains OS data © Crown copyright and database rights 2016 and Geomni UK Map data ©<br> and database rights [2019]<br>\n",
    "https://www.kaggle.com/hmavrodiev/london-bike-sharing-dataset/metadata</p>"
   ]
  },
  {
   "cell_type": "markdown",
   "metadata": {},
   "source": [
    "## import necessary libraries"
   ]
  },
  {
   "cell_type": "markdown",
   "metadata": {},
   "source": [
    "The model you will train is a <b> decision tree </b>. For this import the scikit-learn model `from sklearn.tree import DecisionTreeRegressor` and `from sklearn.model_selection import train_test_split`. You will later test the performance with the mean squared error (MSE) `from sklearn.metrics import mean_squared_error`"
   ]
  },
  {
   "cell_type": "code",
   "execution_count": null,
   "metadata": {},
   "outputs": [],
   "source": [
    "import pandas as pd\n",
    "import numpy as np\n",
    "\n",
    "import matplotlib.pyplot as plt\n",
    "import seaborn as sns"
   ]
  },
  {
   "cell_type": "code",
   "execution_count": null,
   "metadata": {
    "id": "_ql5CtcT50P6"
   },
   "outputs": [],
   "source": [
    "..."
   ]
  },
  {
   "cell_type": "code",
   "execution_count": null,
   "metadata": {
    "id": "_ql5CtcT50P6"
   },
   "outputs": [],
   "source": [
    "sns.set_style('whitegrid')\n",
    "%matplotlib inline\n",
    "\n",
    "import warnings\n",
    "warnings.filterwarnings(\"ignore\")"
   ]
  },
  {
   "cell_type": "markdown",
   "metadata": {},
   "source": [
    "## load prepared data\n",
    "Use `pd.read_csv(...)` to load your data."
   ]
  },
  {
   "cell_type": "code",
   "execution_count": null,
   "metadata": {
    "id": "HzZJmdTkrb_P"
   },
   "outputs": [],
   "source": [
    "df = ...\n",
    "df"
   ]
  },
  {
   "cell_type": "markdown",
   "metadata": {},
   "source": [
    "## set target value and attributes to train on\n",
    "\n",
    "The value you want to predict is `cnt`, the count of bike shares at a specific time of the year. Determine `y` as the target value vector. The training attributes will be in the matrix `X`. Choose the attributes `t1`, `t2`,`hum`, `wind_speed`, `weather_code`, `is_holiday`, `is_weekend`,`season`,`month`,`hour` to be in your matrix `X` by using `df[[column1,column2,..]]`."
   ]
  },
  {
   "cell_type": "code",
   "execution_count": null,
   "metadata": {},
   "outputs": [],
   "source": [
    "y = ...\n",
    "X = ..."
   ]
  },
  {
   "cell_type": "markdown",
   "metadata": {
    "id": "xb8tgjA-zCqU"
   },
   "source": [
    "## split data into train and test set\n",
    "\n",
    "Since you need 'untouched' data to later test your algorithm, split the dataframe into two parts: <b> one to train </b> and <b> one to test </b>. Use the function `train_test_split(X,y,train_size,test_size)` with `train_size=0.95` and `test_size=0.05` to do so. "
   ]
  },
  {
   "cell_type": "code",
   "execution_count": null,
   "metadata": {
    "id": "XJEzEvDVzAA0",
    "outputId": "ee84ead6-3529-4042-d739-4013f9f0afbb"
   },
   "outputs": [],
   "source": [
    "X_train, X_test, y_train, y_test = ..."
   ]
  },
  {
   "cell_type": "markdown",
   "metadata": {},
   "source": [
    " ## train and predict\n",
    "\n",
    "Here all the magic happens. Use the sckit-learn function `DecisionTreeRegressor(random_state=42)` to call the decision tree. Then `decisiontree.fit(X_train, y_train)` does the training. \n",
    "\n",
    "More information on the really cool descision tree algorithm by sckit-learn: https://scikit-learn.org/stable/modules/generated/sklearn.tree.DecisionTreeRegressor.html"
   ]
  },
  {
   "cell_type": "code",
   "execution_count": null,
   "metadata": {
    "id": "tljgFp_3temj",
    "outputId": "dca5b311-81d7-4bac-f9a6-1b19be49c948"
   },
   "outputs": [],
   "source": [
    "decisiontree = ...\n",
    "\n",
    "my_decisiontree = ..."
   ]
  },
  {
   "cell_type": "markdown",
   "metadata": {},
   "source": [
    "Tadaa. The variable `my_decisiontree` now knows how your data works, it is your precious decision making tool. Look at 3 random instances of your test set, using `X_test.sample(3)`"
   ]
  },
  {
   "cell_type": "code",
   "execution_count": null,
   "metadata": {},
   "outputs": [],
   "source": [
    "X_sample = ...\n",
    "X_sample"
   ]
  },
  {
   "cell_type": "markdown",
   "metadata": {},
   "source": [
    "According to the respective attributes, how many bike shares `cnt` would you estimate? \n",
    "\n",
    "Let's see what your model says: Use `my_decisiontree.predict(X_sample)` to get the predictions of the dicision tree."
   ]
  },
  {
   "cell_type": "code",
   "execution_count": null,
   "metadata": {},
   "outputs": [],
   "source": [
    "..."
   ]
  },
  {
   "cell_type": "markdown",
   "metadata": {},
   "source": [
    "Who was closer to the truth? Use `y_test[X_sample.index]` to see the true bike shares stored in you test set."
   ]
  },
  {
   "cell_type": "code",
   "execution_count": null,
   "metadata": {},
   "outputs": [],
   "source": [
    "pd.DataFrame(...)"
   ]
  },
  {
   "cell_type": "markdown",
   "metadata": {},
   "source": [
    "Probably the estimates will be a few counts away from the true value. How well does the model perform in general?"
   ]
  },
  {
   "cell_type": "markdown",
   "metadata": {},
   "source": [
    "## performance testing\n",
    "\n",
    "Test your model on a broader scale. First, predict the `X_test` sample with `y_predict = my_decisiontree.predict(...)`."
   ]
  },
  {
   "cell_type": "code",
   "execution_count": null,
   "metadata": {},
   "outputs": [],
   "source": [
    "..."
   ]
  },
  {
   "cell_type": "code",
   "execution_count": null,
   "metadata": {},
   "outputs": [],
   "source": [
    "x = range(len(y_predict))\n",
    "plt.figure(figsize = (8,6))\n",
    "plt.plot(x,y_predict,'.',label='predictions')\n",
    "plt.plot(x,y_test,'.',label='true bike shares')\n",
    "plt.ylabel('bike shares')\n",
    "plt.xlabel('samples')\n",
    "plt.legend()\n",
    "plt.show()"
   ]
  },
  {
   "cell_type": "markdown",
   "metadata": {},
   "source": [
    "Use the function `mean_squared_error(y_test,y_predict, squared=False)` to evaluate the rooted MSE."
   ]
  },
  {
   "cell_type": "code",
   "execution_count": null,
   "metadata": {},
   "outputs": [],
   "source": [
    "RMSE = ...\n",
    "print(\"RMSE = \", RMSE)"
   ]
  },
  {
   "cell_type": "markdown",
   "metadata": {},
   "source": [
    "How bad is this? Determine the ratio between the `RMSE` and the mean value of `cnt` using the function `mean()` and de divide operator `/`."
   ]
  },
  {
   "cell_type": "code",
   "execution_count": null,
   "metadata": {},
   "outputs": [],
   "source": [
    "ratio = ...\n",
    "ratio"
   ]
  },
  {
   "cell_type": "markdown",
   "metadata": {},
   "source": [
    "## improve\n",
    "\n",
    "Can your decision tree do better? There are many parameters, which you can adjust in a decision tree.\n",
    "For example take the parameter `min_samples_leaf`: The minimum number of samples required to be at a leaf node. Per default this parameter is set to `2`. Test it with `min_samples_leaf=10`."
   ]
  },
  {
   "cell_type": "code",
   "execution_count": null,
   "metadata": {},
   "outputs": [],
   "source": [
    "decisiontree = DecisionTreeRegressor(random_state=42, min_samples_leaf=...)\n",
    "\n",
    "model_fit = decisiontree.fit(X_train, y_train)\n",
    "y_predict = model_fit.predict(X_test)\n",
    "\n",
    "RMSE = mean_squared_error(y_predict,y_test, squared=False)\n",
    "print(\"RMSE = \", RMSE)"
   ]
  },
  {
   "cell_type": "markdown",
   "metadata": {},
   "source": [
    "Indeed, this is already much better. But would be the optimal value for `min_samples_leaf`?"
   ]
  },
  {
   "cell_type": "code",
   "execution_count": null,
   "metadata": {},
   "outputs": [],
   "source": [
    "error = []\n",
    "for i in range(1,100):\n",
    "    decisiontree = DecisionTreeRegressor(random_state=42, min_samples_leaf=i)\n",
    "\n",
    "    model_fit = decisiontree.fit(X_train, y_train)\n",
    "    y_predict = model_fit.predict(X_test)\n",
    "    RMSE = mean_squared_error(y_predict,y_test, squared=False)\n",
    "    error.append(RMSE)"
   ]
  },
  {
   "cell_type": "code",
   "execution_count": null,
   "metadata": {
    "scrolled": true
   },
   "outputs": [],
   "source": [
    "plt.figure(figsize = (8,6))\n",
    "plt.plot(error)\n",
    "plt.ylabel('RMSE')\n",
    "plt.xlabel('minimum sample leaf')\n",
    "plt.show()"
   ]
  },
  {
   "cell_type": "markdown",
   "metadata": {},
   "source": [
    "We see that the error first strongly decreases with the parameter. However, with a `min_samples_leaf > 10` the error starts rising again. Where is optimal (=minimum) error?"
   ]
  },
  {
   "cell_type": "code",
   "execution_count": null,
   "metadata": {
    "scrolled": true
   },
   "outputs": [],
   "source": [
    "index = np.argwhere(error == np.amin(error))\n",
    "print(\"The minimum error is\", error[index[0][0]])\n",
    "print(\"at a minimum sample leaf = \",index[0][0])"
   ]
  },
  {
   "cell_type": "markdown",
   "metadata": {},
   "source": [
    "The conclusion is it is better to use a `min_samples_leaf ~ 8` to have a minimum error. Try it with the optimized parameter!"
   ]
  },
  {
   "cell_type": "code",
   "execution_count": null,
   "metadata": {},
   "outputs": [],
   "source": [
    "decisiontree = ...\n",
    "\n",
    "model_fit = ...\n",
    "y_predict = ...\n",
    "\n",
    "RMSE = ...\n",
    "print(\"RMSE = \", RMSE)"
   ]
  },
  {
   "cell_type": "markdown",
   "metadata": {},
   "source": [
    "Congratulations, you have <b> trained, tested and optimized your own machine learning model! </b> The stakeholders of the city vienna will be more than satisfied!"
   ]
  },
  {
   "cell_type": "markdown",
   "metadata": {},
   "source": [
    "__________\n",
    "Additional:\n",
    "    \n",
    "Try the same with another model e.g. `RandomForestRegressor(random_state=42)`"
   ]
  },
  {
   "cell_type": "code",
   "execution_count": null,
   "metadata": {},
   "outputs": [],
   "source": [
    "from sklearn.ensemble import RandomForestRegressor\n",
    "\n",
    "randomforest = ...\n",
    "\n",
    "my_randomforest = ...\n",
    "y_predict = ...\n",
    "\n",
    "RMSE = ...\n",
    "print(\"MSE = \", RMSE)"
   ]
  }
 ],
 "metadata": {
  "kernelspec": {
   "display_name": "Python 3",
   "language": "python",
   "name": "python3"
  },
  "language_info": {
   "codemirror_mode": {
    "name": "ipython",
    "version": 3
   },
   "file_extension": ".py",
   "mimetype": "text/x-python",
   "name": "python",
   "nbconvert_exporter": "python",
   "pygments_lexer": "ipython3",
   "version": "3.8.5"
  }
 },
 "nbformat": 4,
 "nbformat_minor": 4
}
